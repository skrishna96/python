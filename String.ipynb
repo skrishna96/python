{
 "cells": [
  {
   "cell_type": "markdown",
   "id": "3d781c81",
   "metadata": {},
   "source": [
    "Python string is a sequence of Unicode characters that is enclosed in quotation marks."
   ]
  },
  {
   "cell_type": "code",
   "execution_count": 8,
   "id": "0fc967f2",
   "metadata": {},
   "outputs": [],
   "source": [
    "s = 'heLlo WorlD!'"
   ]
  },
  {
   "cell_type": "code",
   "execution_count": 9,
   "id": "a213bec7",
   "metadata": {},
   "outputs": [
    {
     "name": "stdout",
     "output_type": "stream",
     "text": [
      "heLlo WorlD!\n"
     ]
    }
   ],
   "source": [
    "print(s)"
   ]
  },
  {
   "cell_type": "code",
   "execution_count": 10,
   "id": "759fc353",
   "metadata": {},
   "outputs": [
    {
     "data": {
      "text/plain": [
       "'Hello world!'"
      ]
     },
     "execution_count": 10,
     "metadata": {},
     "output_type": "execute_result"
    }
   ],
   "source": [
    "s.capitalize() #converts the first character of the string to a capital"
   ]
  },
  {
   "cell_type": "code",
   "execution_count": 11,
   "id": "17585c89",
   "metadata": {},
   "outputs": [
    {
     "data": {
      "text/plain": [
       "'Hello World!'"
      ]
     },
     "execution_count": 11,
     "metadata": {},
     "output_type": "execute_result"
    }
   ],
   "source": [
    "s.title() # convert the first character in each word to uppercase and the remaining characters to lowercase"
   ]
  },
  {
   "cell_type": "code",
   "execution_count": 12,
   "id": "86d5b70c",
   "metadata": {},
   "outputs": [
    {
     "data": {
      "text/plain": [
       "'HELLO WORLD!'"
      ]
     },
     "execution_count": 12,
     "metadata": {},
     "output_type": "execute_result"
    }
   ],
   "source": [
    "s.upper()"
   ]
  },
  {
   "cell_type": "code",
   "execution_count": 13,
   "id": "0941ead4",
   "metadata": {},
   "outputs": [
    {
     "data": {
      "text/plain": [
       "'hello world!'"
      ]
     },
     "execution_count": 13,
     "metadata": {},
     "output_type": "execute_result"
    }
   ],
   "source": [
    "s.lower()"
   ]
  },
  {
   "cell_type": "code",
   "execution_count": 14,
   "id": "be50c675",
   "metadata": {},
   "outputs": [
    {
     "data": {
      "text/plain": [
       "True"
      ]
     },
     "execution_count": 14,
     "metadata": {},
     "output_type": "execute_result"
    }
   ],
   "source": [
    "s.startswith('h')"
   ]
  },
  {
   "cell_type": "code",
   "execution_count": 15,
   "id": "7ecc2d32",
   "metadata": {},
   "outputs": [
    {
     "data": {
      "text/plain": [
       "False"
      ]
     },
     "execution_count": 15,
     "metadata": {},
     "output_type": "execute_result"
    }
   ],
   "source": [
    "s.startswith('H')"
   ]
  },
  {
   "cell_type": "code",
   "execution_count": 16,
   "id": "4b10e47f",
   "metadata": {},
   "outputs": [
    {
     "data": {
      "text/plain": [
       "True"
      ]
     },
     "execution_count": 16,
     "metadata": {},
     "output_type": "execute_result"
    }
   ],
   "source": [
    "s.endswith('!')"
   ]
  },
  {
   "cell_type": "code",
   "execution_count": 17,
   "id": "130e1a8d",
   "metadata": {},
   "outputs": [
    {
     "data": {
      "text/plain": [
       "False"
      ]
     },
     "execution_count": 17,
     "metadata": {},
     "output_type": "execute_result"
    }
   ],
   "source": [
    "s.endswith('D')"
   ]
  },
  {
   "cell_type": "code",
   "execution_count": 18,
   "id": "24a03dcc",
   "metadata": {},
   "outputs": [],
   "source": [
    "s = \"   hello    \""
   ]
  },
  {
   "cell_type": "code",
   "execution_count": 19,
   "id": "4cbb8555",
   "metadata": {},
   "outputs": [
    {
     "name": "stdout",
     "output_type": "stream",
     "text": [
      "   hello    \n"
     ]
    }
   ],
   "source": [
    "print(s)"
   ]
  },
  {
   "cell_type": "code",
   "execution_count": 20,
   "id": "44e35dbe",
   "metadata": {},
   "outputs": [
    {
     "data": {
      "text/plain": [
       "'hello    '"
      ]
     },
     "execution_count": 20,
     "metadata": {},
     "output_type": "execute_result"
    }
   ],
   "source": [
    "s.lstrip()"
   ]
  },
  {
   "cell_type": "code",
   "execution_count": 21,
   "id": "f4c263da",
   "metadata": {},
   "outputs": [
    {
     "data": {
      "text/plain": [
       "'   hello'"
      ]
     },
     "execution_count": 21,
     "metadata": {},
     "output_type": "execute_result"
    }
   ],
   "source": [
    "s.rstrip()"
   ]
  },
  {
   "cell_type": "code",
   "execution_count": 22,
   "id": "b659cb25",
   "metadata": {},
   "outputs": [
    {
     "data": {
      "text/plain": [
       "'hello'"
      ]
     },
     "execution_count": 22,
     "metadata": {},
     "output_type": "execute_result"
    }
   ],
   "source": [
    "s.strip()"
   ]
  },
  {
   "cell_type": "code",
   "execution_count": 23,
   "id": "f09dd331",
   "metadata": {},
   "outputs": [],
   "source": [
    "s = 'heLlo WorlD!'"
   ]
  },
  {
   "cell_type": "markdown",
   "id": "54ab90c4",
   "metadata": {},
   "source": [
    "casefold() method is used to convert string to lower case. It is similar to lower() string method, but case removes all the case distinctions present in a string."
   ]
  },
  {
   "cell_type": "code",
   "execution_count": 24,
   "id": "75205a6b",
   "metadata": {},
   "outputs": [],
   "source": [
    "string = \"ß\""
   ]
  },
  {
   "cell_type": "code",
   "execution_count": 25,
   "id": "937840cc",
   "metadata": {},
   "outputs": [
    {
     "data": {
      "text/plain": [
       "'ß'"
      ]
     },
     "execution_count": 25,
     "metadata": {},
     "output_type": "execute_result"
    }
   ],
   "source": [
    "string.lower()"
   ]
  },
  {
   "cell_type": "code",
   "execution_count": 26,
   "id": "a96fee46",
   "metadata": {},
   "outputs": [
    {
     "data": {
      "text/plain": [
       "'ss'"
      ]
     },
     "execution_count": 26,
     "metadata": {},
     "output_type": "execute_result"
    }
   ],
   "source": [
    "string.casefold()"
   ]
  },
  {
   "cell_type": "code",
   "execution_count": 27,
   "id": "fb8143ef",
   "metadata": {},
   "outputs": [],
   "source": [
    "s = \"hello\""
   ]
  },
  {
   "cell_type": "code",
   "execution_count": 28,
   "id": "8991e983",
   "metadata": {},
   "outputs": [
    {
     "data": {
      "text/plain": [
       "'   hello    '"
      ]
     },
     "execution_count": 28,
     "metadata": {},
     "output_type": "execute_result"
    }
   ],
   "source": [
    "s.center(12)"
   ]
  },
  {
   "cell_type": "code",
   "execution_count": 30,
   "id": "53a99c4d",
   "metadata": {},
   "outputs": [
    {
     "data": {
      "text/plain": [
       "2"
      ]
     },
     "execution_count": 30,
     "metadata": {},
     "output_type": "execute_result"
    }
   ],
   "source": [
    "s.count(\"l\") #returns the number of occurrences of a substring in the given string"
   ]
  },
  {
   "cell_type": "code",
   "execution_count": 31,
   "id": "d823ce21",
   "metadata": {},
   "outputs": [
    {
     "data": {
      "text/plain": [
       "'hellO'"
      ]
     },
     "execution_count": 31,
     "metadata": {},
     "output_type": "execute_result"
    }
   ],
   "source": [
    "s.replace(\"o\",\"O\")"
   ]
  },
  {
   "cell_type": "code",
   "execution_count": 32,
   "id": "9267bef9",
   "metadata": {},
   "outputs": [],
   "source": [
    "s = \"hello\"\n",
    "length = 8\n",
    "fillchar = '*'"
   ]
  },
  {
   "cell_type": "code",
   "execution_count": 33,
   "id": "56ced270",
   "metadata": {},
   "outputs": [
    {
     "data": {
      "text/plain": [
       "'***hello'"
      ]
     },
     "execution_count": 33,
     "metadata": {},
     "output_type": "execute_result"
    }
   ],
   "source": [
    "s.rjust(length,fillchar)"
   ]
  },
  {
   "cell_type": "code",
   "execution_count": 34,
   "id": "f29c3ae1",
   "metadata": {},
   "outputs": [
    {
     "data": {
      "text/plain": [
       "'hello***'"
      ]
     },
     "execution_count": 34,
     "metadata": {},
     "output_type": "execute_result"
    }
   ],
   "source": [
    "s.ljust(length,fillchar)"
   ]
  },
  {
   "cell_type": "code",
   "execution_count": 35,
   "id": "b29e00c2",
   "metadata": {},
   "outputs": [],
   "source": [
    "n = \"+1234\""
   ]
  },
  {
   "cell_type": "code",
   "execution_count": 37,
   "id": "0648be43",
   "metadata": {},
   "outputs": [
    {
     "data": {
      "text/plain": [
       "'+000001234'"
      ]
     },
     "execution_count": 37,
     "metadata": {},
     "output_type": "execute_result"
    }
   ],
   "source": [
    "n.zfill(10) #returns a copy of the string with ‘0’ characters padded to the left side of the given string."
   ]
  },
  {
   "cell_type": "code",
   "execution_count": 38,
   "id": "e121fcd2",
   "metadata": {},
   "outputs": [
    {
     "data": {
      "text/plain": [
       "b'\\xc2\\xb6'"
      ]
     },
     "execution_count": 38,
     "metadata": {},
     "output_type": "execute_result"
    }
   ],
   "source": [
    "\"¶\".encode('utf-8')"
   ]
  },
  {
   "cell_type": "code",
   "execution_count": 40,
   "id": "64c080cb",
   "metadata": {},
   "outputs": [
    {
     "data": {
      "text/plain": [
       "2"
      ]
     },
     "execution_count": 40,
     "metadata": {},
     "output_type": "execute_result"
    }
   ],
   "source": [
    "'hello'.find('l')"
   ]
  },
  {
   "cell_type": "code",
   "execution_count": 41,
   "id": "2e090586",
   "metadata": {},
   "outputs": [
    {
     "data": {
      "text/plain": [
       "3"
      ]
     },
     "execution_count": 41,
     "metadata": {},
     "output_type": "execute_result"
    }
   ],
   "source": [
    "'hello'.find('l',3)"
   ]
  },
  {
   "cell_type": "code",
   "execution_count": 42,
   "id": "6e30a623",
   "metadata": {},
   "outputs": [
    {
     "data": {
      "text/plain": [
       "'Hello user!'"
      ]
     },
     "execution_count": 42,
     "metadata": {},
     "output_type": "execute_result"
    }
   ],
   "source": [
    "\"Hello {}!\".format(\"user\")"
   ]
  },
  {
   "cell_type": "code",
   "execution_count": 43,
   "id": "86eabf2f",
   "metadata": {},
   "outputs": [
    {
     "data": {
      "text/plain": [
       "\"John's last name is Wick\""
      ]
     },
     "execution_count": 43,
     "metadata": {},
     "output_type": "execute_result"
    }
   ],
   "source": [
    "a = {'x':'John', 'y':'Wick'}\n",
    "\"{x}'s last name is {y}\".format_map(a)"
   ]
  },
  {
   "cell_type": "code",
   "execution_count": 45,
   "id": "42e1a6cb",
   "metadata": {},
   "outputs": [
    {
     "data": {
      "text/plain": [
       "-1"
      ]
     },
     "execution_count": 45,
     "metadata": {},
     "output_type": "execute_result"
    }
   ],
   "source": [
    "'hello'.find('d')"
   ]
  },
  {
   "cell_type": "code",
   "execution_count": 46,
   "id": "214490a8",
   "metadata": {},
   "outputs": [
    {
     "ename": "ValueError",
     "evalue": "substring not found",
     "output_type": "error",
     "traceback": [
      "\u001b[1;31m---------------------------------------------------------------------------\u001b[0m",
      "\u001b[1;31mValueError\u001b[0m                                Traceback (most recent call last)",
      "\u001b[1;32m~\\AppData\\Local\\Temp/ipykernel_11556/1227718693.py\u001b[0m in \u001b[0;36m<module>\u001b[1;34m\u001b[0m\n\u001b[1;32m----> 1\u001b[1;33m \u001b[1;34m'hello'\u001b[0m\u001b[1;33m.\u001b[0m\u001b[0mindex\u001b[0m\u001b[1;33m(\u001b[0m\u001b[1;34m'd'\u001b[0m\u001b[1;33m)\u001b[0m\u001b[1;33m\u001b[0m\u001b[1;33m\u001b[0m\u001b[0m\n\u001b[0m",
      "\u001b[1;31mValueError\u001b[0m: substring not found"
     ]
    }
   ],
   "source": [
    "'hello'.index('d')"
   ]
  },
  {
   "cell_type": "code",
   "execution_count": 47,
   "id": "de48ac62",
   "metadata": {},
   "outputs": [
    {
     "data": {
      "text/plain": [
       "2"
      ]
     },
     "execution_count": 47,
     "metadata": {},
     "output_type": "execute_result"
    }
   ],
   "source": [
    "'hello'.find('l')"
   ]
  },
  {
   "cell_type": "code",
   "execution_count": 48,
   "id": "0e4ef998",
   "metadata": {},
   "outputs": [
    {
     "data": {
      "text/plain": [
       "3"
      ]
     },
     "execution_count": 48,
     "metadata": {},
     "output_type": "execute_result"
    }
   ],
   "source": [
    "'hello'.find('l',3)"
   ]
  },
  {
   "cell_type": "code",
   "execution_count": 49,
   "id": "26154437",
   "metadata": {},
   "outputs": [
    {
     "data": {
      "text/plain": [
       "('he', 'l', 'lo')"
      ]
     },
     "execution_count": 49,
     "metadata": {},
     "output_type": "execute_result"
    }
   ],
   "source": [
    "'hello'.partition('l')"
   ]
  },
  {
   "cell_type": "code",
   "execution_count": 51,
   "id": "ad137fd8",
   "metadata": {},
   "outputs": [
    {
     "data": {
      "text/plain": [
       "('hel', 'l', 'o')"
      ]
     },
     "execution_count": 51,
     "metadata": {},
     "output_type": "execute_result"
    }
   ],
   "source": [
    "'hello'.rpartition('l')"
   ]
  },
  {
   "cell_type": "code",
   "execution_count": 52,
   "id": "cec39561",
   "metadata": {},
   "outputs": [
    {
     "data": {
      "text/plain": [
       "2"
      ]
     },
     "execution_count": 52,
     "metadata": {},
     "output_type": "execute_result"
    }
   ],
   "source": [
    "'hello'.find('l')"
   ]
  },
  {
   "cell_type": "code",
   "execution_count": 53,
   "id": "77ad9f5e",
   "metadata": {},
   "outputs": [
    {
     "data": {
      "text/plain": [
       "3"
      ]
     },
     "execution_count": 53,
     "metadata": {},
     "output_type": "execute_result"
    }
   ],
   "source": [
    "'hello'.rfind('l')"
   ]
  },
  {
   "cell_type": "code",
   "execution_count": 54,
   "id": "e0e33de8",
   "metadata": {},
   "outputs": [
    {
     "data": {
      "text/plain": [
       "'hElLO'"
      ]
     },
     "execution_count": 54,
     "metadata": {},
     "output_type": "execute_result"
    }
   ],
   "source": [
    "\"HeLlo\".swapcase()"
   ]
  },
  {
   "cell_type": "code",
   "execution_count": 55,
   "id": "00ddb5a7",
   "metadata": {},
   "outputs": [
    {
     "data": {
      "text/plain": [
       "['Cat', 'Bat', 'Sat', 'Mat', 'Xat', 'Eat']"
      ]
     },
     "execution_count": 55,
     "metadata": {},
     "output_type": "execute_result"
    }
   ],
   "source": [
    " \"Cat\\nBat\\nSat\\nMat\\nXat\\nEat\".splitlines()"
   ]
  },
  {
   "cell_type": "code",
   "execution_count": 57,
   "id": "2ef37c17",
   "metadata": {},
   "outputs": [],
   "source": [
    "s = \"hello world!\""
   ]
  },
  {
   "cell_type": "code",
   "execution_count": 59,
   "id": "2cfedb1c",
   "metadata": {},
   "outputs": [],
   "source": [
    "s1 = \"hw\"\n",
    "s2 = \"HW\"\n",
    "s3 = \"!\""
   ]
  },
  {
   "cell_type": "code",
   "execution_count": 60,
   "id": "c94a1311",
   "metadata": {},
   "outputs": [
    {
     "data": {
      "text/plain": [
       "{104: 72, 119: 87, 33: None}"
      ]
     },
     "execution_count": 60,
     "metadata": {},
     "output_type": "execute_result"
    }
   ],
   "source": [
    "s.maketrans(s1,s2,s3)"
   ]
  },
  {
   "cell_type": "code",
   "execution_count": 61,
   "id": "823041ee",
   "metadata": {},
   "outputs": [],
   "source": [
    "tgt = s.maketrans(s1,s2,s3)"
   ]
  },
  {
   "cell_type": "code",
   "execution_count": 62,
   "id": "20b7dfcf",
   "metadata": {},
   "outputs": [
    {
     "data": {
      "text/plain": [
       "'Hello World'"
      ]
     },
     "execution_count": 62,
     "metadata": {},
     "output_type": "execute_result"
    }
   ],
   "source": [
    "s.translate(tgt)"
   ]
  },
  {
   "cell_type": "code",
   "execution_count": 67,
   "id": "f314ee68",
   "metadata": {},
   "outputs": [
    {
     "data": {
      "text/plain": [
       "'Hello World'"
      ]
     },
     "execution_count": 67,
     "metadata": {},
     "output_type": "execute_result"
    }
   ],
   "source": [
    "\"Hello World\".expandtabs(12)"
   ]
  },
  {
   "cell_type": "code",
   "execution_count": 66,
   "id": "823c743b",
   "metadata": {},
   "outputs": [
    {
     "data": {
      "text/plain": [
       "'Hello   World'"
      ]
     },
     "execution_count": 66,
     "metadata": {},
     "output_type": "execute_result"
    }
   ],
   "source": [
    "'Hello\\tWorld'.expandtabs()"
   ]
  },
  {
   "cell_type": "code",
   "execution_count": 68,
   "id": "79596628",
   "metadata": {},
   "outputs": [
    {
     "data": {
      "text/plain": [
       "'a@b@c'"
      ]
     },
     "execution_count": 68,
     "metadata": {},
     "output_type": "execute_result"
    }
   ],
   "source": [
    "l = ['a','b','c']\n",
    "\"@\".join(l)"
   ]
  },
  {
   "cell_type": "code",
   "execution_count": 69,
   "id": "2995650d",
   "metadata": {},
   "outputs": [
    {
     "data": {
      "text/plain": [
       "False"
      ]
     },
     "execution_count": 69,
     "metadata": {},
     "output_type": "execute_result"
    }
   ],
   "source": [
    "\"abc123\".isalpha()"
   ]
  },
  {
   "cell_type": "code",
   "execution_count": 70,
   "id": "015e4eb5",
   "metadata": {},
   "outputs": [
    {
     "data": {
      "text/plain": [
       "True"
      ]
     },
     "execution_count": 70,
     "metadata": {},
     "output_type": "execute_result"
    }
   ],
   "source": [
    "\"abc\".isalpha()"
   ]
  },
  {
   "cell_type": "code",
   "execution_count": 71,
   "id": "74deb02d",
   "metadata": {},
   "outputs": [
    {
     "data": {
      "text/plain": [
       "True"
      ]
     },
     "execution_count": 71,
     "metadata": {},
     "output_type": "execute_result"
    }
   ],
   "source": [
    "\"abc123\".isalnum()"
   ]
  },
  {
   "cell_type": "code",
   "execution_count": 72,
   "id": "0ce104db",
   "metadata": {},
   "outputs": [
    {
     "data": {
      "text/plain": [
       "True"
      ]
     },
     "execution_count": 72,
     "metadata": {},
     "output_type": "execute_result"
    }
   ],
   "source": [
    "\"abc\".isalnum()"
   ]
  },
  {
   "cell_type": "code",
   "execution_count": 73,
   "id": "c5a3dcbc",
   "metadata": {},
   "outputs": [
    {
     "data": {
      "text/plain": [
       "True"
      ]
     },
     "execution_count": 73,
     "metadata": {},
     "output_type": "execute_result"
    }
   ],
   "source": [
    "\"hello\".isprintable()"
   ]
  },
  {
   "cell_type": "code",
   "execution_count": 74,
   "id": "e087b45d",
   "metadata": {},
   "outputs": [
    {
     "data": {
      "text/plain": [
       "False"
      ]
     },
     "execution_count": 74,
     "metadata": {},
     "output_type": "execute_result"
    }
   ],
   "source": [
    "\"hello\\n\".isprintable()"
   ]
  },
  {
   "cell_type": "code",
   "execution_count": 75,
   "id": "96510ad8",
   "metadata": {},
   "outputs": [
    {
     "data": {
      "text/plain": [
       "False"
      ]
     },
     "execution_count": 75,
     "metadata": {},
     "output_type": "execute_result"
    }
   ],
   "source": [
    "\"hello world\".isidentifier()"
   ]
  },
  {
   "cell_type": "code",
   "execution_count": 76,
   "id": "5959b9a5",
   "metadata": {},
   "outputs": [
    {
     "data": {
      "text/plain": [
       "True"
      ]
     },
     "execution_count": 76,
     "metadata": {},
     "output_type": "execute_result"
    }
   ],
   "source": [
    "\"hello_world\".isidentifier()"
   ]
  },
  {
   "cell_type": "code",
   "execution_count": 77,
   "id": "c5d73c4c",
   "metadata": {},
   "outputs": [
    {
     "data": {
      "text/plain": [
       "True"
      ]
     },
     "execution_count": 77,
     "metadata": {},
     "output_type": "execute_result"
    }
   ],
   "source": [
    "\"  \".isspace()"
   ]
  },
  {
   "cell_type": "code",
   "execution_count": null,
   "id": "1fee5167",
   "metadata": {},
   "outputs": [],
   "source": []
  }
 ],
 "metadata": {
  "kernelspec": {
   "display_name": "Python 3 (ipykernel)",
   "language": "python",
   "name": "python3"
  },
  "language_info": {
   "codemirror_mode": {
    "name": "ipython",
    "version": 3
   },
   "file_extension": ".py",
   "mimetype": "text/x-python",
   "name": "python",
   "nbconvert_exporter": "python",
   "pygments_lexer": "ipython3",
   "version": "3.9.7"
  }
 },
 "nbformat": 4,
 "nbformat_minor": 5
}
